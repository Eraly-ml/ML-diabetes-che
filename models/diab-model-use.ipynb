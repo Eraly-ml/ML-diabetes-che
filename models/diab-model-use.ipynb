{
 "cells": [
  {
   "cell_type": "code",
   "execution_count": null,
   "id": "9e7aa812-d076-4e1b-9928-593a98cc182d",
   "metadata": {},
   "outputs": [],
   "source": [
    "# Importing model\n",
    "import joblib\n",
    "import numpy as np\n",
    "import pandas as pd"
   ]
  },
  {
   "cell_type": "code",
   "execution_count": 8,
   "id": "19208610-a851-47bf-8ed6-91f21c810b5a",
   "metadata": {},
   "outputs": [
    {
     "data": {
      "text/html": [
       "<div>\n",
       "<style scoped>\n",
       "    .dataframe tbody tr th:only-of-type {\n",
       "        vertical-align: middle;\n",
       "    }\n",
       "\n",
       "    .dataframe tbody tr th {\n",
       "        vertical-align: top;\n",
       "    }\n",
       "\n",
       "    .dataframe thead th {\n",
       "        text-align: right;\n",
       "    }\n",
       "</style>\n",
       "<table border=\"1\" class=\"dataframe\">\n",
       "  <thead>\n",
       "    <tr style=\"text-align: right;\">\n",
       "      <th></th>\n",
       "      <th>Pregnancies</th>\n",
       "      <th>Glucose</th>\n",
       "      <th>BloodPressure</th>\n",
       "      <th>SkinThickness</th>\n",
       "      <th>Insulin</th>\n",
       "      <th>BMI</th>\n",
       "      <th>DiabetesPedigreeFunction</th>\n",
       "      <th>Age</th>\n",
       "    </tr>\n",
       "  </thead>\n",
       "  <tbody>\n",
       "    <tr>\n",
       "      <th>0</th>\n",
       "      <td>1</td>\n",
       "      <td>112</td>\n",
       "      <td>68</td>\n",
       "      <td>19</td>\n",
       "      <td>80</td>\n",
       "      <td>27.5</td>\n",
       "      <td>0.455</td>\n",
       "      <td>29</td>\n",
       "    </tr>\n",
       "    <tr>\n",
       "      <th>1</th>\n",
       "      <td>3</td>\n",
       "      <td>138</td>\n",
       "      <td>78</td>\n",
       "      <td>21</td>\n",
       "      <td>90</td>\n",
       "      <td>32.8</td>\n",
       "      <td>0.372</td>\n",
       "      <td>45</td>\n",
       "    </tr>\n",
       "    <tr>\n",
       "      <th>2</th>\n",
       "      <td>0</td>\n",
       "      <td>95</td>\n",
       "      <td>72</td>\n",
       "      <td>15</td>\n",
       "      <td>60</td>\n",
       "      <td>24.3</td>\n",
       "      <td>0.614</td>\n",
       "      <td>31</td>\n",
       "    </tr>\n",
       "    <tr>\n",
       "      <th>3</th>\n",
       "      <td>2</td>\n",
       "      <td>120</td>\n",
       "      <td>75</td>\n",
       "      <td>25</td>\n",
       "      <td>100</td>\n",
       "      <td>29.0</td>\n",
       "      <td>0.520</td>\n",
       "      <td>34</td>\n",
       "    </tr>\n",
       "    <tr>\n",
       "      <th>4</th>\n",
       "      <td>4</td>\n",
       "      <td>155</td>\n",
       "      <td>82</td>\n",
       "      <td>30</td>\n",
       "      <td>120</td>\n",
       "      <td>33.1</td>\n",
       "      <td>0.856</td>\n",
       "      <td>50</td>\n",
       "    </tr>\n",
       "  </tbody>\n",
       "</table>\n",
       "</div>"
      ],
      "text/plain": [
       "   Pregnancies  Glucose  BloodPressure  SkinThickness  Insulin   BMI  \\\n",
       "0            1      112             68             19       80  27.5   \n",
       "1            3      138             78             21       90  32.8   \n",
       "2            0       95             72             15       60  24.3   \n",
       "3            2      120             75             25      100  29.0   \n",
       "4            4      155             82             30      120  33.1   \n",
       "\n",
       "   DiabetesPedigreeFunction  Age  \n",
       "0                     0.455   29  \n",
       "1                     0.372   45  \n",
       "2                     0.614   31  \n",
       "3                     0.520   34  \n",
       "4                     0.856   50  "
      ]
     },
     "execution_count": 8,
     "metadata": {},
     "output_type": "execute_result"
    }
   ],
   "source": [
    "new_data = pd.read_csv('diabetes_test_multi.csv')\n",
    "new_data = new_data.drop(columns=['Outcome'])\n",
    "new_data"
   ]
  },
  {
   "cell_type": "code",
   "execution_count": 22,
   "id": "d258488c-f7c3-4e51-8cbb-a95c0ea7c90f",
   "metadata": {},
   "outputs": [
    {
     "name": "stdout",
     "output_type": "stream",
     "text": [
      "patient 0: Diabetes variable NO\n",
      "patient 1: Diabetes variable NO\n",
      "patient 2: Diabetes variable NO\n",
      "patient 3: Diabetes variable NO\n",
      "patient 4: Diabetes variable YES\n"
     ]
    }
   ],
   "source": [
    "# Load model\n",
    "model = joblib.load('model_diabetes.pkl')\n",
    "\n",
    "pred = model.predict(new_data)\n",
    "\n",
    "# Итерация по предсказаниям и вероятностям\n",
    "for i in range(len(pred)):\n",
    "    if pred[i] == 0:\n",
    "        print(f'patient {i}: Diabetes variable NO')\n",
    "    elif pred[i] == 1:\n",
    "        print(f'patient {i}: Diabetes variable YES')\n"
   ]
  }
 ],
 "metadata": {
  "kernelspec": {
   "display_name": "Python 3 (ipykernel)",
   "language": "python",
   "name": "python3"
  },
  "language_info": {
   "codemirror_mode": {
    "name": "ipython",
    "version": 3
   },
   "file_extension": ".py",
   "mimetype": "text/x-python",
   "name": "python",
   "nbconvert_exporter": "python",
   "pygments_lexer": "ipython3",
   "version": "3.12.3"
  }
 },
 "nbformat": 4,
 "nbformat_minor": 5
}
